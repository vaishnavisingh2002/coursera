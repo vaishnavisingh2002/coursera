{
  "metadata": {
    "language_info": {
      "codemirror_mode": {
        "name": "python",
        "version": 3
      },
      "file_extension": ".py",
      "mimetype": "text/x-python",
      "name": "python",
      "nbconvert_exporter": "python",
      "pygments_lexer": "ipython3",
      "version": "3.8"
    },
    "kernelspec": {
      "name": "python",
      "display_name": "Pyolite",
      "language": "python"
    }
  },
  "nbformat_minor": 4,
  "nbformat": 4,
  "cells": [
    {
      "cell_type": "markdown",
      "source": "My Jupyter Notebook on IBM Watson Studio",
      "metadata": {}
    },
    {
      "cell_type": "markdown",
      "source": "**VAISHNAVI SHEKHAR SINGH**\n<br>\nStudent",
      "metadata": {}
    },
    {
      "cell_type": "markdown",
      "source": "*I am interested in data science as it is an upcoming field with a lot of potential for one's growth in their career.*",
      "metadata": {}
    },
    {
      "cell_type": "markdown",
      "source": "### The next line will demonstrate the addition of 7 and 9 ###",
      "metadata": {}
    },
    {
      "cell_type": "code",
      "source": "7+9",
      "metadata": {
        "trusted": true
      },
      "execution_count": 5,
      "outputs": [
        {
          "execution_count": 5,
          "output_type": "execute_result",
          "data": {
            "text/plain": "16"
          },
          "metadata": {}
        }
      ]
    },
    {
      "cell_type": "markdown",
      "source": "***\nhello there!\n***\n<a href=\"https://www.google.com/search?q=weather\" target=\"_blank\">Click here for today's weather</a>\n<br>\n~~Bye~~\n",
      "metadata": {}
    }
  ]
}